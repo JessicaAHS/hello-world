{
  "nbformat": 4,
  "nbformat_minor": 0,
  "metadata": {
    "colab": {
      "name": "Untitled2.ipynb",
      "version": "0.3.2",
      "provenance": [],
      "include_colab_link": true
    },
    "kernelspec": {
      "name": "python3",
      "display_name": "Python 3"
    }
  },
  "cells": [
    {
      "cell_type": "markdown",
      "metadata": {
        "id": "view-in-github",
        "colab_type": "text"
      },
      "source": [
        "<a href=\"https://colab.research.google.com/github/JessicaAHS/hello-world/blob/master/Presi%C3%B3n.ipynb\" target=\"_parent\"><img src=\"https://colab.research.google.com/assets/colab-badge.svg\" alt=\"Open In Colab\"/></a>"
      ]
    },
    {
      "metadata": {
        "id": "Yp0vNYnAtkOC",
        "colab_type": "code",
        "outputId": "4027c20d-b6ff-4d9f-887d-c6d82903103d",
        "colab": {
          "base_uri": "https://localhost:8080/",
          "height": 332
        }
      },
      "cell_type": "code",
      "source": [
        "import numpy as np\n",
        "import pandas as pd\n",
        "import matplotlib.pyplot as plt\n",
        "\n",
        "N = 40 #Número de pacientes\n",
        "presion = np.round(np.random.normal(loc=120, scale=2.5, size=N), decimals=1) #Distribución normal -> Gaussiana\n",
        "\n",
        "paciente = np.arange(N) + 1 #Identificación de cada paciente\n",
        "\n",
        "data = pd.DataFrame ({'Presión':presion, 'Paciente':paciente}) #Datos en un DataFrame de Pandas\n",
        "#data.to.clipboard() #Con este comand se dejan los datos en el clipboard y pueden ser pegados con otra app\n",
        "\n",
        "plt.figure()\n",
        "plt.subplot(121)\n",
        "### Histograma manual ###\n",
        "bandas = 9\n",
        "deltaB = (presion.max() - presion.min())/np.float(bandas)\n",
        "\n",
        "x = []\n",
        "ys = np.zeros(bandas)\n",
        "\n",
        "x0 = presion.min()\n",
        "for k in range (bandas):\n",
        "  xk = presion.min() + (k+1)*deltaB\n",
        "  ys[k] = np.sum((presion >= x0) & (presion < xk))\n",
        "  x.append(xk)\n",
        "  x0 = xk\n",
        "ys[-1] += np.sum(presion == presion.max()) \n",
        "\n",
        "plt.bar(x, ys, alpha=0.6)\n",
        "plt.ylabel('Frecuencia')\n",
        "plt.title('Histograma manual')\n",
        "#############\n",
        "\n",
        "plt.subplot(122)\n",
        "ax = plt.gca()\n",
        "#### Histograma con Pandas ####\n",
        "data['Presión'].plot.hist(bins=bandas, alpha=0.6, ax = ax)\n",
        "plt.title('Histograma Pandas')\n",
        "\n",
        "### Calculo de media ###\n",
        "p = ys / np.float(N) #Probabilidad para cada banda\n",
        "media_calculo = np.sum(x*p)\n",
        "media_numpy = presion.mean()\n",
        "\n",
        "varianza_calculo = np.sum((x - media_calculo)**2 * p)\n",
        "varianza_numpy = presion.var()\n",
        "\n",
        "std_calculo = np.sqrt(varianza_calculo)\n",
        "std_numpy = presion.std()\n",
        "print('Media por cálculo:\\t%0.1f [mmHg], \\tnumpy: %0.1f [mmHg]' % (media_calculo, media_numpy))\n",
        "print('Desciavión estándar: \\t%0.1f [mmHg], \\tnumpy: %0.1f [mmHg]' % (std_calculo, std_numpy))\n",
        "print('Varianza por cálculo: \\t%0.1f [mmHg], \\tnumpy: %0.1f [mmHg]' % (varianza_calculo, varianza_numpy))"
      ],
      "execution_count": 0,
      "outputs": [
        {
          "output_type": "stream",
          "text": [
            "Media por cálculo:\t120.2 [mmHg], \tnumpy: 120.1 [mmHg]\n",
            "Desciavión estándar: \t2.0 [mmHg], \tnumpy: 2.0 [mmHg]\n",
            "Varianza por cálculo: \t4.0 [mmHg], \tnumpy: 4.0 [mmHg]\n"
          ],
          "name": "stdout"
        },
        {
          "output_type": "display_data",
          "data": {
            "image/png": "[encoded data removed]",
            "text/plain": [
              "<Figure size 432x288 with 2 Axes>"
            ]
          },
          "metadata": {
            "tags": []
          }
        }
      ]
    },
    {
      "metadata": {
        "id": "ww-MA16gzGUv",
        "colab_type": "code",
        "colab": {}
      },
      "cell_type": "code",
      "source": [
        ""
      ],
      "execution_count": 0,
      "outputs": []
    },
    {
      "metadata": {
        "id": "UAwHFFGhzBLx",
        "colab_type": "code",
        "colab": {}
      },
      "cell_type": "code",
      "source": [
        ""
      ],
      "execution_count": 0,
      "outputs": []
    }
  ]
}
