{
  "nbformat": 4,
  "nbformat_minor": 0,
  "metadata": {
    "colab": {
      "name": "Niveles.ipynb",
      "provenance": [],
      "authorship_tag": "ABX9TyNqsC1yzc/qIeyYkRa2adCi",
      "include_colab_link": true
    },
    "kernelspec": {
      "name": "python3",
      "display_name": "Python 3"
    }
  },
  "cells": [
    {
      "cell_type": "markdown",
      "metadata": {
        "id": "view-in-github",
        "colab_type": "text"
      },
      "source": [
        "<a href=\"https://colab.research.google.com/github/JessicaAHS/hello-world/blob/master/Niveles.ipynb\" target=\"_parent\"><img src=\"https://colab.research.google.com/assets/colab-badge.svg\" alt=\"Open In Colab\"/></a>"
      ]
    },
    {
      "cell_type": "code",
      "metadata": {
        "id": "Jzfpe0Hhk-Uy",
        "colab_type": "code",
        "outputId": "7eb62a01-7fe2-4a1d-ab22-dae572491141",
        "colab": {
          "base_uri": "https://localhost:8080/",
          "height": 265
        }
      },
      "source": [
        "from matplotlib.pyplot import *\n",
        "from numpy import *\n",
        "x=linspace(-1,1,5000)\n",
        "y=x**2\n",
        "plot(x,y, c='b')\n",
        "x = [-0.45, 0.45]\n",
        "y1 = [0.2, 0.2]\n",
        "plt.plot(x,y1, c='m')\n",
        "x = [-0.63, 0.63]\n",
        "y2 = [0.4, 0.4]\n",
        "plt.plot(x,y2, c='m')\n",
        "x = [-0.77, 0.77]\n",
        "y3 = [0.6, 0.6]\n",
        "plt.plot(x,y3, c='m')\n",
        "x = [-0.89, 0.89]\n",
        "y4 = [0.8, 0.8]\n",
        "plt.plot(x,y4, c='m')\n",
        "\n",
        "plt.axis('off')\n",
        "\n"
      ],
      "execution_count": 0,
      "outputs": [
        {
          "output_type": "execute_result",
          "data": {
            "text/plain": [
              "(-1.1, 1.1, -0.04999995798319496, 1.0499999979991999)"
            ]
          },
          "metadata": {
            "tags": []
          },
          "execution_count": 50
        },
        {
          "output_type": "display_data",
          "data": {
            "image/png": "[encoded data removed]",
            "text/plain": [
              "<Figure size 432x288 with 1 Axes>"
            ]
          },
          "metadata": {
            "tags": []
          }
        }
      ]
    },
    {
      "cell_type": "code",
      "metadata": {
        "id": "w6QnlFxOouSG",
        "colab_type": "code",
        "colab": {}
      },
      "source": [
        ""
      ],
      "execution_count": 0,
      "outputs": []
    }
  ]
}